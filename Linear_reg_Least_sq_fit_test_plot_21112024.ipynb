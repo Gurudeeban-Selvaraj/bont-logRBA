{
  "nbformat": 4,
  "nbformat_minor": 0,
  "metadata": {
    "colab": {
      "provenance": []
    },
    "kernelspec": {
      "name": "python3",
      "display_name": "Python 3"
    },
    "language_info": {
      "name": "python"
    }
  },
  "cells": [
    {
      "cell_type": "markdown",
      "source": [
        "Step 1: Import Necessary Libraries"
      ],
      "metadata": {
        "id": "EDMPq0CDa4jT"
      }
    },
    {
      "cell_type": "code",
      "execution_count": 1,
      "metadata": {
        "id": "4_6y7W-baeve"
      },
      "outputs": [],
      "source": [
        "import pandas as pd\n",
        "import numpy as np\n",
        "from sklearn.linear_model import LinearRegression\n",
        "from scipy import stats\n",
        "\n",
        "# Example: Load your data into a DataFrame\n",
        "df = pd.read_csv('linear_least_sq_fit_3.csv')\n",
        "\n",
        "# Assuming df has columns 'logRBA' and 'docking_score'\n",
        "X = df['docking_score'].values.reshape(-1, 1)  # Independent variable (docking scores)\n",
        "y = df['logRBAemp'].values  # Dependent variable (experimental logRBA)\n"
      ]
    },
    {
      "cell_type": "markdown",
      "source": [
        "Step 2: Perform Linear Regression"
      ],
      "metadata": {
        "id": "B063EtWma6MZ"
      }
    },
    {
      "cell_type": "code",
      "source": [
        "# Initialize and fit the linear regression model\n",
        "model = LinearRegression()\n",
        "model.fit(X, y)\n",
        "\n",
        "# Get the slope and intercept of the regression line\n",
        "intercept = model.intercept_\n",
        "slope = model.coef_[0]\n",
        "\n",
        "print(f\"Linear Regression Equation: logRBA = {intercept:.3f} + {slope:.3f} * docking_score\")"
      ],
      "metadata": {
        "colab": {
          "base_uri": "https://localhost:8080/"
        },
        "id": "_7Cxj0bta9Bt",
        "outputId": "3f88ef55-32de-4baa-e551-c25d0f34ab15"
      },
      "execution_count": 2,
      "outputs": [
        {
          "output_type": "stream",
          "name": "stdout",
          "text": [
            "Linear Regression Equation: logRBA = -0.992 + -0.038 * docking_score\n"
          ]
        }
      ]
    },
    {
      "cell_type": "markdown",
      "source": [
        "Step 3: Calculate the p-value"
      ],
      "metadata": {
        "id": "Oh3oM49DbG_h"
      }
    },
    {
      "cell_type": "code",
      "source": [
        "# Perform statistical analysis to calculate the p-value\n",
        "slope, intercept, r_value, p_value, std_err = stats.linregress(df['docking_score'], df['logRBAemp'])\n",
        "\n",
        "print(f\"p-value: {p_value:.3f}\")"
      ],
      "metadata": {
        "colab": {
          "base_uri": "https://localhost:8080/"
        },
        "id": "3RdxdRfJbIRQ",
        "outputId": "2feede33-3c4b-493a-a980-c84c07693d3f"
      },
      "execution_count": 3,
      "outputs": [
        {
          "output_type": "stream",
          "name": "stdout",
          "text": [
            "p-value: 0.000\n"
          ]
        }
      ]
    },
    {
      "cell_type": "markdown",
      "source": [
        "Step 4: Predict logRBA Values Using the Model"
      ],
      "metadata": {
        "id": "q8XsLTfCbPfT"
      }
    },
    {
      "cell_type": "code",
      "source": [
        "# Use the model to predict logRBA values\n",
        "df['predicted_logRBA'] = model.predict(X)\n",
        "\n",
        "# Calculate correlation between predicted and experimental logRBA\n",
        "correlation_coefficient = np.corrcoef(df['logRBAemp'], df['predicted_logRBA'])[0, 1]\n",
        "\n",
        "print(f\"Correlation coefficient between predicted and experimental logRBA: {correlation_coefficient:.3f}\")"
      ],
      "metadata": {
        "colab": {
          "base_uri": "https://localhost:8080/"
        },
        "id": "k2gtLo8PbQMx",
        "outputId": "6fb58b12-49c4-4f11-9c26-5fae82c3f264"
      },
      "execution_count": 4,
      "outputs": [
        {
          "output_type": "stream",
          "name": "stdout",
          "text": [
            "Correlation coefficient between predicted and experimental logRBA: 0.723\n"
          ]
        }
      ]
    },
    {
      "cell_type": "code",
      "source": [
        "# Save the DataFrame with predicted values to a CSV file\n",
        "df.to_csv('predicted_logRBA.csv', index=False)"
      ],
      "metadata": {
        "id": "yAYrOMxvbZAC"
      },
      "execution_count": 5,
      "outputs": []
    },
    {
      "cell_type": "code",
      "source": [
        "import pandas as pd\n",
        "import numpy as np\n",
        "\n",
        "# Load the new dataset\n",
        "new_df = pd.read_csv('dockingscore_to_logRBA_test.csv')\n",
        "\n",
        "# Extract the docking scores\n",
        "X_new = new_df['docking_score'].values.reshape(-1, 1)\n",
        "\n",
        "# Use the trained model to predict logRBA values\n",
        "new_df['predicted_logRBA'] = model.predict(X_new)\n",
        "\n",
        "# Save the predictions to a CSV file\n",
        "new_df.to_csv('predicted_logRBA_new_data.csv', index=False)\n",
        "\n",
        "# Optional: Display the first few rows of the new dataset with predictions\n",
        "print(new_df.head())\n"
      ],
      "metadata": {
        "colab": {
          "base_uri": "https://localhost:8080/"
        },
        "id": "yU9bxcGkef8Y",
        "outputId": "230501f1-47c7-4ded-ed4e-d499c5a1ea62"
      },
      "execution_count": 6,
      "outputs": [
        {
          "output_type": "stream",
          "name": "stdout",
          "text": [
            "   docking_score  predicted_logRBA\n",
            "0         -61.70          1.340049\n",
            "1         -63.61          1.412251\n",
            "2         -53.19          1.018351\n",
            "3         -52.71          1.000206\n",
            "4         -54.59          1.071274\n"
          ]
        }
      ]
    },
    {
      "cell_type": "code",
      "source": [
        "import matplotlib.pyplot as plt\n",
        "import seaborn as sns\n",
        "from sklearn.linear_model import LinearRegression\n",
        "from sklearn.metrics import mean_squared_error, r2_score\n",
        "\n",
        "# Assuming df is your original DataFrame with actual and predicted logRBA values\n",
        "plt.figure(figsize=(8, 6))\n",
        "\n",
        "# Scatter plot of actual vs. predicted logRBA\n",
        "sns.scatterplot(x=df['logRBAemp'], y=df['predicted_logRBA'], data=df, marker='^', s=200, color='blue')\n",
        "\n",
        "# Add a diagonal line for reference (y = x)\n",
        "plt.plot([df['logRBAemp'].min(), df['logRBAemp'].max()],\n",
        "         [df['logRBAemp'].min(), df['logRBAemp'].max()],\n",
        "         color='red', linestyle='--', linewidth=2)\n",
        "\n",
        "# Add titles and labels\n",
        "plt.title('logRBAemp vs logRBApred', fontsize=16)\n",
        "plt.xlabel(r'logRBA$_{emp}$', fontsize=14)\n",
        "plt.ylabel('logRBA$_{pred}$', fontsize=14)\n",
        "#plt.grid(True)\n",
        "\n",
        "# Save the plot as a .jpeg file\n",
        "plt.savefig('logRBAemp vs logRBApred.jpeg', format='jpeg', dpi=300, bbox_inches='tight')\n",
        "\n",
        "# Show the plot\n",
        "plt.show()\n",
        "\n",
        "# Print out metrics for further analysis\n",
        "mse = mean_squared_error(df['logRBAemp'], df['predicted_logRBA'])\n",
        "r2 = r2_score(df['logRBAemp'], df['predicted_logRBA'])\n",
        "\n",
        "print(f\"Mean Squared Error: {mse:.3f}\")\n",
        "print(f\"R^2 Score: {r2:.3f}\")"
      ],
      "metadata": {
        "colab": {
          "base_uri": "https://localhost:8080/",
          "height": 613
        },
        "id": "n2WTjKZvhHbO",
        "outputId": "7ef3dda1-6c01-4ddb-da49-f66cf4c8d1da"
      },
      "execution_count": 15,
      "outputs": [
        {
          "output_type": "display_data",
          "data": {
            "text/plain": [
              "<Figure size 800x600 with 1 Axes>"
            ],
            "image/png": "[encoded data removed]"
          },
          "metadata": {}
        },
        {
          "output_type": "stream",
          "name": "stdout",
          "text": [
            "Mean Squared Error: 0.100\n",
            "R^2 Score: 0.523\n"
          ]
        }
      ]
    }
  ]
}